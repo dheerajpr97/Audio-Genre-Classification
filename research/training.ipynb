{
 "cells": [
  {
   "cell_type": "code",
   "execution_count": 1,
   "metadata": {},
   "outputs": [
    {
     "data": {
      "text/plain": [
       "'/home/dheeraj37/Projects/Audio-Genre-Classification-1'"
      ]
     },
     "execution_count": 1,
     "metadata": {},
     "output_type": "execute_result"
    }
   ],
   "source": [
    "import os\n",
    "os.chdir(\"../\")\n",
    "%pwd"
   ]
  },
  {
   "cell_type": "code",
   "execution_count": 2,
   "metadata": {},
   "outputs": [],
   "source": [
    "from dataclasses import dataclass\n",
    "from pathlib import Path\n",
    "\n",
    "\n",
    "@dataclass(frozen=True)\n",
    "class TrainingConfig:\n",
    "    root_dir: Path\n",
    "    model_path: Path\n",
    "    trained_model_path: Path\n",
    "    train_data_path: Path\n",
    "    val_data_path: Path\n",
    "    test_data_path: Path\n",
    "    params_epochs: int\n",
    "    params_batch_size: int\n",
    "    params_shuffle: bool\n",
    "    params_image_size: list\n",
    "\n",
    "\n",
    "\n",
    "@dataclass(frozen=True)\n",
    "class PrepareCallbacksConfig:\n",
    "    root_dir: Path\n",
    "    tensorboard_root_log_dir: Path\n",
    "    checkpoint_model_filepath: Path\n",
    "\n"
   ]
  },
  {
   "cell_type": "code",
   "execution_count": 3,
   "metadata": {},
   "outputs": [
    {
     "name": "stderr",
     "output_type": "stream",
     "text": [
      "2023-09-23 23:18:12.699692: I tensorflow/core/util/port.cc:110] oneDNN custom operations are on. You may see slightly different numerical results due to floating-point round-off errors from different computation orders. To turn them off, set the environment variable `TF_ENABLE_ONEDNN_OPTS=0`.\n",
      "2023-09-23 23:18:12.700841: I tensorflow/tsl/cuda/cudart_stub.cc:28] Could not find cuda drivers on your machine, GPU will not be used.\n",
      "2023-09-23 23:18:12.723269: I tensorflow/tsl/cuda/cudart_stub.cc:28] Could not find cuda drivers on your machine, GPU will not be used.\n",
      "2023-09-23 23:18:12.723836: I tensorflow/core/platform/cpu_feature_guard.cc:182] This TensorFlow binary is optimized to use available CPU instructions in performance-critical operations.\n",
      "To enable the following instructions: AVX2 AVX_VNNI FMA, in other operations, rebuild TensorFlow with the appropriate compiler flags.\n",
      "2023-09-23 23:18:13.144915: W tensorflow/compiler/tf2tensorrt/utils/py_utils.cc:38] TF-TRT Warning: Could not find TensorRT\n"
     ]
    }
   ],
   "source": [
    "from cnnClassifier.constant import *\n",
    "from cnnClassifier.utils.common import read_yaml, create_directories\n",
    "import tensorflow as tf\n"
   ]
  },
  {
   "cell_type": "code",
   "execution_count": 4,
   "metadata": {},
   "outputs": [],
   "source": [
    "class ConfigurationManager:\n",
    "    def __init__(\n",
    "        self, \n",
    "        config_filepath = CONFIG_PATH,\n",
    "        params_filepath = PARAMS_PATH):\n",
    "        self.config = read_yaml(config_filepath)\n",
    "        self.params = read_yaml(params_filepath)\n",
    "        create_directories([self.config.artifacts_root])\n",
    "\n",
    "    \n",
    "    def get_prepare_callback_config(self) -> PrepareCallbacksConfig:\n",
    "        config = self.config.prepare_callbacks\n",
    "        model_ckpt_dir = os.path.dirname(config.checkpoint_model_filepath)\n",
    "        create_directories([\n",
    "            Path(model_ckpt_dir),\n",
    "            Path(config.tensorboard_root_log_dir)\n",
    "        ])\n",
    "\n",
    "        prepare_callback_config = PrepareCallbacksConfig(\n",
    "            root_dir=Path(config.root_dir),\n",
    "            tensorboard_root_log_dir=Path(config.tensorboard_root_log_dir),\n",
    "            checkpoint_model_filepath=config.checkpoint_model_filepath\n",
    "        )\n",
    "\n",
    "        return prepare_callback_config\n",
    "\n",
    "\n",
    "    def get_training_config(self) -> TrainingConfig:\n",
    "        model_training = self.config.model_training\n",
    "        prepare_base_model = self.config.prepare_base_model\n",
    "        prepare_data = self.config.prepare_data\n",
    "        params = self.params\n",
    "        create_directories([\n",
    "            Path(model_training.root_dir)\n",
    "        ])\n",
    "\n",
    "        training_config = TrainingConfig(\n",
    "            root_dir=Path(model_training.root_dir),\n",
    "            model_path=Path(prepare_base_model.model_path),\n",
    "            trained_model_path=Path(model_training.trained_model_path),\n",
    "            train_data_path=Path(prepare_data.train_data_path), \n",
    "            test_data_path=Path(prepare_data.test_data_path),\n",
    "            val_data_path=Path(prepare_data.val_data_path),     \n",
    "            params_epochs=params.EPOCHS,\n",
    "            params_batch_size=params.BATCH_SIZE,\n",
    "            params_shuffle=params.SHUFFLE,\n",
    "            params_image_size=params.IMAGE_SIZE\n",
    "        )\n",
    "\n",
    "        return training_config\n",
    "\n"
   ]
  },
  {
   "cell_type": "code",
   "execution_count": 5,
   "metadata": {},
   "outputs": [],
   "source": [
    "import time"
   ]
  },
  {
   "cell_type": "code",
   "execution_count": 6,
   "metadata": {},
   "outputs": [],
   "source": [
    "class PrepareCallback:\n",
    "    def __init__(self, config: PrepareCallbacksConfig):\n",
    "        self.config = config\n",
    "    \n",
    "    @property\n",
    "    def _create_tb_callbacks(self):\n",
    "        timestamp = time.strftime(\"%Y-%m-%d-%H-%M-%S\")\n",
    "        tb_running_log_dir = os.path.join(\n",
    "            self.config.tensorboard_root_log_dir,\n",
    "            f\"tb_logs_at_{timestamp}\",\n",
    "        )\n",
    "        return tf.keras.callbacks.TensorBoard(log_dir=tb_running_log_dir)\n",
    "    \n",
    "\n",
    "    @property\n",
    "    def _create_ckpt_callbacks(self):\n",
    "        return tf.keras.callbacks.ModelCheckpoint(\n",
    "            filepath=self.config.checkpoint_model_filepath,\n",
    "            save_best_only=True\n",
    "        )\n",
    "\n",
    "\n",
    "    def get_tb_ckpt_callbacks(self):\n",
    "        return [\n",
    "            self._create_tb_callbacks,\n",
    "            self._create_ckpt_callbacks\n",
    "        ]"
   ]
  },
  {
   "cell_type": "code",
   "execution_count": 10,
   "metadata": {},
   "outputs": [],
   "source": [
    "import os\n",
    "import urllib.request as request\n",
    "from zipfile import ZipFile\n",
    "import tensorflow as tf\n",
    "import time\n",
    "import pandas as pd\n",
    "from sklearn.preprocessing import LabelEncoder, StandardScaler\n",
    "from tensorflow.keras.utils import to_categorical\n",
    "from cnnClassifier.utils.common import MFCCDataGenerator\n",
    "\n",
    "from sklearn.model_selection import train_test_split"
   ]
  },
  {
   "cell_type": "code",
   "execution_count": 15,
   "metadata": {},
   "outputs": [],
   "source": [
    "class Training:\n",
    "    def __init__(self, config: TrainingConfig):\n",
    "        self.config = config\n",
    "        \n",
    "    def get_model(self):\n",
    "        self.model = tf.keras.models.load_model(\n",
    "            self.config.model_path\n",
    "        )\n",
    "\n",
    "    def get_datasets(self):\n",
    "        self.train_df = pd.read_json(self.config.train_data_path)\n",
    "        self.val_df = pd.read_json(self.config.val_data_path)\n",
    "        self.test_df = pd.read_json(self.config.test_data_path)\n",
    "\n",
    "    @staticmethod\n",
    "    def save_model(path: Path, model: tf.keras.Model):\n",
    "        model.save(path)\n",
    "\n",
    "\n",
    "    def train(self, callback_list: list):\n",
    "        self.train_data_generator = MFCCDataGenerator(self.train_df, batch_size=64, shuffle=True)\n",
    "        self.val_data_generator = MFCCDataGenerator(self.val_df, batch_size=64, shuffle=False)\n",
    "\n",
    "        #self.steps_per_epoch = self.train_generator.samples // self.train_generator.batch_size\n",
    "        #self.validation_steps = self.valid_generator.samples // self.valid_generator.batch_size\n",
    "\n",
    "        self.history = self.model.fit(\n",
    "            self.train_data_generator,\n",
    "            epochs=self.config.params_epochs,\n",
    "            #steps_per_epoch=self.steps_per_epoch,\n",
    "            #validation_steps=self.validation_steps,\n",
    "            validation_data=self.val_data_generator,\n",
    "            callbacks=callback_list\n",
    "        )\n",
    "\n",
    "        self.save_model(\n",
    "            path=self.config.trained_model_path,\n",
    "            model=self.model\n",
    "        )"
   ]
  },
  {
   "cell_type": "code",
   "execution_count": 20,
   "metadata": {},
   "outputs": [
    {
     "name": "stdout",
     "output_type": "stream",
     "text": [
      "[2023-09-23 23:26:11,607]: INFO: common: yaml file: config/config.yaml loaded successfully\n",
      "[2023-09-23 23:26:11,608]: INFO: common: yaml file: params.yaml loaded successfully\n",
      "[2023-09-23 23:26:11,608]: INFO: common: created directory at: artifacts\n",
      "[2023-09-23 23:26:11,608]: INFO: common: created directory at: artifacts/prepare_callbacks/checkpoint_dir\n",
      "[2023-09-23 23:26:11,609]: INFO: common: created directory at: artifacts/prepare_callbacks/tensorboard_log_dir\n",
      "[2023-09-23 23:26:11,609]: INFO: common: created directory at: artifacts/model_training\n",
      "Epoch 1/100\n",
      "64/64 [==============================] - 2s 24ms/step - loss: 3.2780 - accuracy: 0.1573 - val_loss: 2.4608 - val_accuracy: 0.1335\n",
      "Epoch 2/100\n",
      " 7/64 [==>...........................] - ETA: 0s - loss: 2.6830 - accuracy: 0.2098"
     ]
    },
    {
     "name": "stderr",
     "output_type": "stream",
     "text": [
      "/home/dheeraj37/miniconda3/envs/agc/lib/python3.11/site-packages/keras/src/engine/training.py:3000: UserWarning: You are saving your model as an HDF5 file via `model.save()`. This file format is considered legacy. We recommend using instead the native Keras format, e.g. `model.save('my_model.keras')`.\n",
      "  saving_api.save_model(\n"
     ]
    },
    {
     "name": "stdout",
     "output_type": "stream",
     "text": [
      "64/64 [==============================] - 1s 23ms/step - loss: 2.5056 - accuracy: 0.2145 - val_loss: 1.9917 - val_accuracy: 0.2993\n",
      "Epoch 3/100\n",
      " 7/64 [==>...........................] - ETA: 1s - loss: 2.3528 - accuracy: 0.2482"
     ]
    },
    {
     "name": "stderr",
     "output_type": "stream",
     "text": [
      "/home/dheeraj37/miniconda3/envs/agc/lib/python3.11/site-packages/keras/src/engine/training.py:3000: UserWarning: You are saving your model as an HDF5 file via `model.save()`. This file format is considered legacy. We recommend using instead the native Keras format, e.g. `model.save('my_model.keras')`.\n",
      "  saving_api.save_model(\n"
     ]
    },
    {
     "name": "stdout",
     "output_type": "stream",
     "text": [
      "64/64 [==============================] - 1s 22ms/step - loss: 2.2159 - accuracy: 0.2582 - val_loss: 1.7851 - val_accuracy: 0.3739\n",
      "Epoch 4/100\n",
      " 8/64 [==>...........................] - ETA: 1s - loss: 2.1034 - accuracy: 0.2773"
     ]
    },
    {
     "name": "stderr",
     "output_type": "stream",
     "text": [
      "/home/dheeraj37/miniconda3/envs/agc/lib/python3.11/site-packages/keras/src/engine/training.py:3000: UserWarning: You are saving your model as an HDF5 file via `model.save()`. This file format is considered legacy. We recommend using instead the native Keras format, e.g. `model.save('my_model.keras')`.\n",
      "  saving_api.save_model(\n"
     ]
    },
    {
     "name": "stdout",
     "output_type": "stream",
     "text": [
      "64/64 [==============================] - 2s 24ms/step - loss: 2.0523 - accuracy: 0.2832 - val_loss: 1.6670 - val_accuracy: 0.4259\n",
      "Epoch 5/100\n",
      " 7/64 [==>...........................] - ETA: 0s - loss: 2.0085 - accuracy: 0.3281"
     ]
    },
    {
     "name": "stderr",
     "output_type": "stream",
     "text": [
      "/home/dheeraj37/miniconda3/envs/agc/lib/python3.11/site-packages/keras/src/engine/training.py:3000: UserWarning: You are saving your model as an HDF5 file via `model.save()`. This file format is considered legacy. We recommend using instead the native Keras format, e.g. `model.save('my_model.keras')`.\n",
      "  saving_api.save_model(\n"
     ]
    },
    {
     "name": "stdout",
     "output_type": "stream",
     "text": [
      "64/64 [==============================] - 1s 23ms/step - loss: 1.9724 - accuracy: 0.3040 - val_loss: 1.5984 - val_accuracy: 0.4367\n",
      "Epoch 6/100\n",
      " 7/64 [==>...........................] - ETA: 1s - loss: 1.8291 - accuracy: 0.3304"
     ]
    },
    {
     "name": "stderr",
     "output_type": "stream",
     "text": [
      "/home/dheeraj37/miniconda3/envs/agc/lib/python3.11/site-packages/keras/src/engine/training.py:3000: UserWarning: You are saving your model as an HDF5 file via `model.save()`. This file format is considered legacy. We recommend using instead the native Keras format, e.g. `model.save('my_model.keras')`.\n",
      "  saving_api.save_model(\n"
     ]
    },
    {
     "name": "stdout",
     "output_type": "stream",
     "text": [
      "64/64 [==============================] - 1s 23ms/step - loss: 1.8778 - accuracy: 0.3279 - val_loss: 1.5505 - val_accuracy: 0.4416\n",
      "Epoch 7/100\n",
      " 7/64 [==>...........................] - ETA: 1s - loss: 1.7882 - accuracy: 0.3438"
     ]
    },
    {
     "name": "stderr",
     "output_type": "stream",
     "text": [
      "/home/dheeraj37/miniconda3/envs/agc/lib/python3.11/site-packages/keras/src/engine/training.py:3000: UserWarning: You are saving your model as an HDF5 file via `model.save()`. This file format is considered legacy. We recommend using instead the native Keras format, e.g. `model.save('my_model.keras')`.\n",
      "  saving_api.save_model(\n"
     ]
    },
    {
     "name": "stdout",
     "output_type": "stream",
     "text": [
      "64/64 [==============================] - 1s 23ms/step - loss: 1.7948 - accuracy: 0.3514 - val_loss: 1.4960 - val_accuracy: 0.4544\n",
      "Epoch 8/100\n",
      " 7/64 [==>...........................] - ETA: 1s - loss: 1.7454 - accuracy: 0.3594"
     ]
    },
    {
     "name": "stderr",
     "output_type": "stream",
     "text": [
      "/home/dheeraj37/miniconda3/envs/agc/lib/python3.11/site-packages/keras/src/engine/training.py:3000: UserWarning: You are saving your model as an HDF5 file via `model.save()`. This file format is considered legacy. We recommend using instead the native Keras format, e.g. `model.save('my_model.keras')`.\n",
      "  saving_api.save_model(\n"
     ]
    },
    {
     "name": "stdout",
     "output_type": "stream",
     "text": [
      "64/64 [==============================] - 2s 23ms/step - loss: 1.7522 - accuracy: 0.3553 - val_loss: 1.4641 - val_accuracy: 0.4573\n",
      "Epoch 9/100\n",
      " 7/64 [==>...........................] - ETA: 1s - loss: 1.6674 - accuracy: 0.4085"
     ]
    },
    {
     "name": "stderr",
     "output_type": "stream",
     "text": [
      "/home/dheeraj37/miniconda3/envs/agc/lib/python3.11/site-packages/keras/src/engine/training.py:3000: UserWarning: You are saving your model as an HDF5 file via `model.save()`. This file format is considered legacy. We recommend using instead the native Keras format, e.g. `model.save('my_model.keras')`.\n",
      "  saving_api.save_model(\n"
     ]
    },
    {
     "name": "stdout",
     "output_type": "stream",
     "text": [
      "64/64 [==============================] - 2s 23ms/step - loss: 1.7347 - accuracy: 0.3681 - val_loss: 1.4441 - val_accuracy: 0.4809\n",
      "Epoch 10/100\n",
      " 7/64 [==>...........................] - ETA: 1s - loss: 1.7465 - accuracy: 0.3527"
     ]
    },
    {
     "name": "stderr",
     "output_type": "stream",
     "text": [
      "/home/dheeraj37/miniconda3/envs/agc/lib/python3.11/site-packages/keras/src/engine/training.py:3000: UserWarning: You are saving your model as an HDF5 file via `model.save()`. This file format is considered legacy. We recommend using instead the native Keras format, e.g. `model.save('my_model.keras')`.\n",
      "  saving_api.save_model(\n"
     ]
    },
    {
     "name": "stdout",
     "output_type": "stream",
     "text": [
      "64/64 [==============================] - 2s 23ms/step - loss: 1.6860 - accuracy: 0.3813 - val_loss: 1.4201 - val_accuracy: 0.4848\n",
      "Epoch 11/100\n",
      " 6/64 [=>............................] - ETA: 1s - loss: 1.6102 - accuracy: 0.3967"
     ]
    },
    {
     "name": "stderr",
     "output_type": "stream",
     "text": [
      "/home/dheeraj37/miniconda3/envs/agc/lib/python3.11/site-packages/keras/src/engine/training.py:3000: UserWarning: You are saving your model as an HDF5 file via `model.save()`. This file format is considered legacy. We recommend using instead the native Keras format, e.g. `model.save('my_model.keras')`.\n",
      "  saving_api.save_model(\n"
     ]
    },
    {
     "name": "stdout",
     "output_type": "stream",
     "text": [
      "64/64 [==============================] - 2s 24ms/step - loss: 1.6287 - accuracy: 0.3845 - val_loss: 1.3927 - val_accuracy: 0.4877\n",
      "Epoch 12/100\n",
      " 7/64 [==>...........................] - ETA: 1s - loss: 1.6189 - accuracy: 0.3951"
     ]
    },
    {
     "name": "stderr",
     "output_type": "stream",
     "text": [
      "/home/dheeraj37/miniconda3/envs/agc/lib/python3.11/site-packages/keras/src/engine/training.py:3000: UserWarning: You are saving your model as an HDF5 file via `model.save()`. This file format is considered legacy. We recommend using instead the native Keras format, e.g. `model.save('my_model.keras')`.\n",
      "  saving_api.save_model(\n"
     ]
    },
    {
     "name": "stdout",
     "output_type": "stream",
     "text": [
      "64/64 [==============================] - 2s 26ms/step - loss: 1.5968 - accuracy: 0.4020 - val_loss: 1.3663 - val_accuracy: 0.5074\n",
      "Epoch 13/100\n",
      " 7/64 [==>...........................] - ETA: 1s - loss: 1.6082 - accuracy: 0.4040"
     ]
    },
    {
     "name": "stderr",
     "output_type": "stream",
     "text": [
      "/home/dheeraj37/miniconda3/envs/agc/lib/python3.11/site-packages/keras/src/engine/training.py:3000: UserWarning: You are saving your model as an HDF5 file via `model.save()`. This file format is considered legacy. We recommend using instead the native Keras format, e.g. `model.save('my_model.keras')`.\n",
      "  saving_api.save_model(\n"
     ]
    },
    {
     "name": "stdout",
     "output_type": "stream",
     "text": [
      "64/64 [==============================] - 2s 26ms/step - loss: 1.5858 - accuracy: 0.4177 - val_loss: 1.3518 - val_accuracy: 0.5015\n",
      "Epoch 14/100\n",
      " 7/64 [==>...........................] - ETA: 1s - loss: 1.5592 - accuracy: 0.4487"
     ]
    },
    {
     "name": "stderr",
     "output_type": "stream",
     "text": [
      "/home/dheeraj37/miniconda3/envs/agc/lib/python3.11/site-packages/keras/src/engine/training.py:3000: UserWarning: You are saving your model as an HDF5 file via `model.save()`. This file format is considered legacy. We recommend using instead the native Keras format, e.g. `model.save('my_model.keras')`.\n",
      "  saving_api.save_model(\n"
     ]
    },
    {
     "name": "stdout",
     "output_type": "stream",
     "text": [
      "64/64 [==============================] - 2s 25ms/step - loss: 1.5402 - accuracy: 0.4240 - val_loss: 1.3290 - val_accuracy: 0.5201\n",
      "Epoch 15/100\n",
      " 7/64 [==>...........................] - ETA: 1s - loss: 1.4681 - accuracy: 0.4509"
     ]
    },
    {
     "name": "stderr",
     "output_type": "stream",
     "text": [
      "/home/dheeraj37/miniconda3/envs/agc/lib/python3.11/site-packages/keras/src/engine/training.py:3000: UserWarning: You are saving your model as an HDF5 file via `model.save()`. This file format is considered legacy. We recommend using instead the native Keras format, e.g. `model.save('my_model.keras')`.\n",
      "  saving_api.save_model(\n"
     ]
    },
    {
     "name": "stdout",
     "output_type": "stream",
     "text": [
      "64/64 [==============================] - 2s 26ms/step - loss: 1.5191 - accuracy: 0.4329 - val_loss: 1.3132 - val_accuracy: 0.5211\n",
      "Epoch 16/100\n",
      " 7/64 [==>...........................] - ETA: 1s - loss: 1.4292 - accuracy: 0.5022"
     ]
    },
    {
     "name": "stderr",
     "output_type": "stream",
     "text": [
      "/home/dheeraj37/miniconda3/envs/agc/lib/python3.11/site-packages/keras/src/engine/training.py:3000: UserWarning: You are saving your model as an HDF5 file via `model.save()`. This file format is considered legacy. We recommend using instead the native Keras format, e.g. `model.save('my_model.keras')`.\n",
      "  saving_api.save_model(\n"
     ]
    },
    {
     "name": "stdout",
     "output_type": "stream",
     "text": [
      "64/64 [==============================] - 2s 27ms/step - loss: 1.5100 - accuracy: 0.4456 - val_loss: 1.2974 - val_accuracy: 0.5348\n",
      "Epoch 17/100\n",
      " 7/64 [==>...........................] - ETA: 1s - loss: 1.4954 - accuracy: 0.4464"
     ]
    },
    {
     "name": "stderr",
     "output_type": "stream",
     "text": [
      "/home/dheeraj37/miniconda3/envs/agc/lib/python3.11/site-packages/keras/src/engine/training.py:3000: UserWarning: You are saving your model as an HDF5 file via `model.save()`. This file format is considered legacy. We recommend using instead the native Keras format, e.g. `model.save('my_model.keras')`.\n",
      "  saving_api.save_model(\n"
     ]
    },
    {
     "name": "stdout",
     "output_type": "stream",
     "text": [
      "64/64 [==============================] - 2s 26ms/step - loss: 1.4709 - accuracy: 0.4471 - val_loss: 1.2930 - val_accuracy: 0.5378\n",
      "Epoch 18/100\n",
      " 7/64 [==>...........................] - ETA: 1s - loss: 1.4382 - accuracy: 0.4509"
     ]
    },
    {
     "name": "stderr",
     "output_type": "stream",
     "text": [
      "/home/dheeraj37/miniconda3/envs/agc/lib/python3.11/site-packages/keras/src/engine/training.py:3000: UserWarning: You are saving your model as an HDF5 file via `model.save()`. This file format is considered legacy. We recommend using instead the native Keras format, e.g. `model.save('my_model.keras')`.\n",
      "  saving_api.save_model(\n"
     ]
    },
    {
     "name": "stdout",
     "output_type": "stream",
     "text": [
      "64/64 [==============================] - 2s 26ms/step - loss: 1.4566 - accuracy: 0.4483 - val_loss: 1.2669 - val_accuracy: 0.5358\n",
      "Epoch 19/100\n",
      " 6/64 [=>............................] - ETA: 1s - loss: 1.4283 - accuracy: 0.4573"
     ]
    },
    {
     "name": "stderr",
     "output_type": "stream",
     "text": [
      "/home/dheeraj37/miniconda3/envs/agc/lib/python3.11/site-packages/keras/src/engine/training.py:3000: UserWarning: You are saving your model as an HDF5 file via `model.save()`. This file format is considered legacy. We recommend using instead the native Keras format, e.g. `model.save('my_model.keras')`.\n",
      "  saving_api.save_model(\n"
     ]
    },
    {
     "name": "stdout",
     "output_type": "stream",
     "text": [
      "64/64 [==============================] - 2s 26ms/step - loss: 1.4144 - accuracy: 0.4756 - val_loss: 1.2553 - val_accuracy: 0.5496\n",
      "Epoch 20/100\n",
      " 7/64 [==>...........................] - ETA: 1s - loss: 1.4031 - accuracy: 0.4866"
     ]
    },
    {
     "name": "stderr",
     "output_type": "stream",
     "text": [
      "/home/dheeraj37/miniconda3/envs/agc/lib/python3.11/site-packages/keras/src/engine/training.py:3000: UserWarning: You are saving your model as an HDF5 file via `model.save()`. This file format is considered legacy. We recommend using instead the native Keras format, e.g. `model.save('my_model.keras')`.\n",
      "  saving_api.save_model(\n"
     ]
    },
    {
     "name": "stdout",
     "output_type": "stream",
     "text": [
      "64/64 [==============================] - 2s 25ms/step - loss: 1.4195 - accuracy: 0.4665 - val_loss: 1.2392 - val_accuracy: 0.5525\n",
      "Epoch 21/100\n",
      " 7/64 [==>...........................] - ETA: 1s - loss: 1.4637 - accuracy: 0.4464"
     ]
    },
    {
     "name": "stderr",
     "output_type": "stream",
     "text": [
      "/home/dheeraj37/miniconda3/envs/agc/lib/python3.11/site-packages/keras/src/engine/training.py:3000: UserWarning: You are saving your model as an HDF5 file via `model.save()`. This file format is considered legacy. We recommend using instead the native Keras format, e.g. `model.save('my_model.keras')`.\n",
      "  saving_api.save_model(\n"
     ]
    },
    {
     "name": "stdout",
     "output_type": "stream",
     "text": [
      "64/64 [==============================] - 2s 26ms/step - loss: 1.4317 - accuracy: 0.4623 - val_loss: 1.2364 - val_accuracy: 0.5613\n",
      "Epoch 22/100\n",
      " 7/64 [==>...........................] - ETA: 1s - loss: 1.4224 - accuracy: 0.4397"
     ]
    },
    {
     "name": "stderr",
     "output_type": "stream",
     "text": [
      "/home/dheeraj37/miniconda3/envs/agc/lib/python3.11/site-packages/keras/src/engine/training.py:3000: UserWarning: You are saving your model as an HDF5 file via `model.save()`. This file format is considered legacy. We recommend using instead the native Keras format, e.g. `model.save('my_model.keras')`.\n",
      "  saving_api.save_model(\n"
     ]
    },
    {
     "name": "stdout",
     "output_type": "stream",
     "text": [
      "64/64 [==============================] - 2s 26ms/step - loss: 1.4045 - accuracy: 0.4653 - val_loss: 1.2305 - val_accuracy: 0.5672\n",
      "Epoch 23/100\n",
      " 7/64 [==>...........................] - ETA: 1s - loss: 1.4390 - accuracy: 0.4955"
     ]
    },
    {
     "name": "stderr",
     "output_type": "stream",
     "text": [
      "/home/dheeraj37/miniconda3/envs/agc/lib/python3.11/site-packages/keras/src/engine/training.py:3000: UserWarning: You are saving your model as an HDF5 file via `model.save()`. This file format is considered legacy. We recommend using instead the native Keras format, e.g. `model.save('my_model.keras')`.\n",
      "  saving_api.save_model(\n"
     ]
    },
    {
     "name": "stdout",
     "output_type": "stream",
     "text": [
      "64/64 [==============================] - 2s 26ms/step - loss: 1.4001 - accuracy: 0.4707 - val_loss: 1.2335 - val_accuracy: 0.5584\n",
      "Epoch 24/100\n",
      "64/64 [==============================] - 2s 26ms/step - loss: 1.3655 - accuracy: 0.4832 - val_loss: 1.2132 - val_accuracy: 0.5662\n",
      "Epoch 25/100\n",
      " 7/64 [==>...........................] - ETA: 1s - loss: 1.4343 - accuracy: 0.4710"
     ]
    },
    {
     "name": "stderr",
     "output_type": "stream",
     "text": [
      "/home/dheeraj37/miniconda3/envs/agc/lib/python3.11/site-packages/keras/src/engine/training.py:3000: UserWarning: You are saving your model as an HDF5 file via `model.save()`. This file format is considered legacy. We recommend using instead the native Keras format, e.g. `model.save('my_model.keras')`.\n",
      "  saving_api.save_model(\n"
     ]
    },
    {
     "name": "stdout",
     "output_type": "stream",
     "text": [
      "64/64 [==============================] - 2s 25ms/step - loss: 1.3541 - accuracy: 0.5016 - val_loss: 1.2019 - val_accuracy: 0.5761\n",
      "Epoch 26/100\n",
      " 6/64 [=>............................] - ETA: 1s - loss: 1.3617 - accuracy: 0.5078"
     ]
    },
    {
     "name": "stderr",
     "output_type": "stream",
     "text": [
      "/home/dheeraj37/miniconda3/envs/agc/lib/python3.11/site-packages/keras/src/engine/training.py:3000: UserWarning: You are saving your model as an HDF5 file via `model.save()`. This file format is considered legacy. We recommend using instead the native Keras format, e.g. `model.save('my_model.keras')`.\n",
      "  saving_api.save_model(\n"
     ]
    },
    {
     "name": "stdout",
     "output_type": "stream",
     "text": [
      "64/64 [==============================] - 2s 26ms/step - loss: 1.3510 - accuracy: 0.5036 - val_loss: 1.1944 - val_accuracy: 0.5770\n",
      "Epoch 27/100\n",
      " 7/64 [==>...........................] - ETA: 1s - loss: 1.3857 - accuracy: 0.4777"
     ]
    },
    {
     "name": "stderr",
     "output_type": "stream",
     "text": [
      "/home/dheeraj37/miniconda3/envs/agc/lib/python3.11/site-packages/keras/src/engine/training.py:3000: UserWarning: You are saving your model as an HDF5 file via `model.save()`. This file format is considered legacy. We recommend using instead the native Keras format, e.g. `model.save('my_model.keras')`.\n",
      "  saving_api.save_model(\n"
     ]
    },
    {
     "name": "stdout",
     "output_type": "stream",
     "text": [
      "64/64 [==============================] - 2s 26ms/step - loss: 1.3353 - accuracy: 0.4962 - val_loss: 1.1851 - val_accuracy: 0.5839\n",
      "Epoch 28/100\n",
      " 7/64 [==>...........................] - ETA: 1s - loss: 1.3035 - accuracy: 0.4688"
     ]
    },
    {
     "name": "stderr",
     "output_type": "stream",
     "text": [
      "/home/dheeraj37/miniconda3/envs/agc/lib/python3.11/site-packages/keras/src/engine/training.py:3000: UserWarning: You are saving your model as an HDF5 file via `model.save()`. This file format is considered legacy. We recommend using instead the native Keras format, e.g. `model.save('my_model.keras')`.\n",
      "  saving_api.save_model(\n"
     ]
    },
    {
     "name": "stdout",
     "output_type": "stream",
     "text": [
      "64/64 [==============================] - 2s 25ms/step - loss: 1.3326 - accuracy: 0.4950 - val_loss: 1.1786 - val_accuracy: 0.5761\n",
      "Epoch 29/100\n",
      " 7/64 [==>...........................] - ETA: 1s - loss: 1.2590 - accuracy: 0.5246"
     ]
    },
    {
     "name": "stderr",
     "output_type": "stream",
     "text": [
      "/home/dheeraj37/miniconda3/envs/agc/lib/python3.11/site-packages/keras/src/engine/training.py:3000: UserWarning: You are saving your model as an HDF5 file via `model.save()`. This file format is considered legacy. We recommend using instead the native Keras format, e.g. `model.save('my_model.keras')`.\n",
      "  saving_api.save_model(\n"
     ]
    },
    {
     "name": "stdout",
     "output_type": "stream",
     "text": [
      "64/64 [==============================] - 2s 26ms/step - loss: 1.3221 - accuracy: 0.4955 - val_loss: 1.1770 - val_accuracy: 0.5702\n",
      "Epoch 30/100\n",
      " 7/64 [==>...........................] - ETA: 1s - loss: 1.2531 - accuracy: 0.5022"
     ]
    },
    {
     "name": "stderr",
     "output_type": "stream",
     "text": [
      "/home/dheeraj37/miniconda3/envs/agc/lib/python3.11/site-packages/keras/src/engine/training.py:3000: UserWarning: You are saving your model as an HDF5 file via `model.save()`. This file format is considered legacy. We recommend using instead the native Keras format, e.g. `model.save('my_model.keras')`.\n",
      "  saving_api.save_model(\n"
     ]
    },
    {
     "name": "stdout",
     "output_type": "stream",
     "text": [
      "64/64 [==============================] - 2s 26ms/step - loss: 1.2990 - accuracy: 0.5055 - val_loss: 1.1761 - val_accuracy: 0.5868\n",
      "Epoch 31/100\n",
      " 7/64 [==>...........................] - ETA: 1s - loss: 1.2711 - accuracy: 0.5045"
     ]
    },
    {
     "name": "stderr",
     "output_type": "stream",
     "text": [
      "/home/dheeraj37/miniconda3/envs/agc/lib/python3.11/site-packages/keras/src/engine/training.py:3000: UserWarning: You are saving your model as an HDF5 file via `model.save()`. This file format is considered legacy. We recommend using instead the native Keras format, e.g. `model.save('my_model.keras')`.\n",
      "  saving_api.save_model(\n"
     ]
    },
    {
     "name": "stdout",
     "output_type": "stream",
     "text": [
      "64/64 [==============================] - 2s 26ms/step - loss: 1.3063 - accuracy: 0.5038 - val_loss: 1.1687 - val_accuracy: 0.5819\n",
      "Epoch 32/100\n",
      " 4/64 [>.............................] - ETA: 1s - loss: 1.2873 - accuracy: 0.4688"
     ]
    },
    {
     "name": "stderr",
     "output_type": "stream",
     "text": [
      "/home/dheeraj37/miniconda3/envs/agc/lib/python3.11/site-packages/keras/src/engine/training.py:3000: UserWarning: You are saving your model as an HDF5 file via `model.save()`. This file format is considered legacy. We recommend using instead the native Keras format, e.g. `model.save('my_model.keras')`.\n",
      "  saving_api.save_model(\n"
     ]
    },
    {
     "name": "stdout",
     "output_type": "stream",
     "text": [
      "64/64 [==============================] - 2s 26ms/step - loss: 1.2906 - accuracy: 0.5166 - val_loss: 1.1474 - val_accuracy: 0.5859\n",
      "Epoch 33/100\n",
      " 8/64 [==>...........................] - ETA: 1s - loss: 1.1814 - accuracy: 0.5458"
     ]
    },
    {
     "name": "stderr",
     "output_type": "stream",
     "text": [
      "/home/dheeraj37/miniconda3/envs/agc/lib/python3.11/site-packages/keras/src/engine/training.py:3000: UserWarning: You are saving your model as an HDF5 file via `model.save()`. This file format is considered legacy. We recommend using instead the native Keras format, e.g. `model.save('my_model.keras')`.\n",
      "  saving_api.save_model(\n"
     ]
    },
    {
     "name": "stdout",
     "output_type": "stream",
     "text": [
      "64/64 [==============================] - 2s 25ms/step - loss: 1.2350 - accuracy: 0.5409 - val_loss: 1.1537 - val_accuracy: 0.5761\n",
      "Epoch 34/100\n",
      "64/64 [==============================] - 2s 26ms/step - loss: 1.2459 - accuracy: 0.5217 - val_loss: 1.1377 - val_accuracy: 0.5957\n",
      "Epoch 35/100\n",
      " 7/64 [==>...........................] - ETA: 1s - loss: 1.3537 - accuracy: 0.5022"
     ]
    },
    {
     "name": "stderr",
     "output_type": "stream",
     "text": [
      "/home/dheeraj37/miniconda3/envs/agc/lib/python3.11/site-packages/keras/src/engine/training.py:3000: UserWarning: You are saving your model as an HDF5 file via `model.save()`. This file format is considered legacy. We recommend using instead the native Keras format, e.g. `model.save('my_model.keras')`.\n",
      "  saving_api.save_model(\n"
     ]
    },
    {
     "name": "stdout",
     "output_type": "stream",
     "text": [
      "64/64 [==============================] - 2s 26ms/step - loss: 1.2892 - accuracy: 0.5158 - val_loss: 1.1266 - val_accuracy: 0.5888\n",
      "Epoch 36/100\n",
      " 7/64 [==>...........................] - ETA: 1s - loss: 1.2778 - accuracy: 0.5603"
     ]
    },
    {
     "name": "stderr",
     "output_type": "stream",
     "text": [
      "/home/dheeraj37/miniconda3/envs/agc/lib/python3.11/site-packages/keras/src/engine/training.py:3000: UserWarning: You are saving your model as an HDF5 file via `model.save()`. This file format is considered legacy. We recommend using instead the native Keras format, e.g. `model.save('my_model.keras')`.\n",
      "  saving_api.save_model(\n"
     ]
    },
    {
     "name": "stdout",
     "output_type": "stream",
     "text": [
      "64/64 [==============================] - 2s 25ms/step - loss: 1.2521 - accuracy: 0.5374 - val_loss: 1.1318 - val_accuracy: 0.5986\n",
      "Epoch 37/100\n",
      "64/64 [==============================] - 2s 25ms/step - loss: 1.2337 - accuracy: 0.5318 - val_loss: 1.1292 - val_accuracy: 0.5918\n",
      "Epoch 38/100\n",
      "64/64 [==============================] - 2s 25ms/step - loss: 1.2162 - accuracy: 0.5418 - val_loss: 1.1199 - val_accuracy: 0.5908\n",
      "Epoch 39/100\n",
      " 7/64 [==>...........................] - ETA: 1s - loss: 1.1749 - accuracy: 0.5536"
     ]
    },
    {
     "name": "stderr",
     "output_type": "stream",
     "text": [
      "/home/dheeraj37/miniconda3/envs/agc/lib/python3.11/site-packages/keras/src/engine/training.py:3000: UserWarning: You are saving your model as an HDF5 file via `model.save()`. This file format is considered legacy. We recommend using instead the native Keras format, e.g. `model.save('my_model.keras')`.\n",
      "  saving_api.save_model(\n"
     ]
    },
    {
     "name": "stdout",
     "output_type": "stream",
     "text": [
      "64/64 [==============================] - 2s 25ms/step - loss: 1.2229 - accuracy: 0.5362 - val_loss: 1.1303 - val_accuracy: 0.5819\n",
      "Epoch 40/100\n",
      "64/64 [==============================] - 2s 26ms/step - loss: 1.1981 - accuracy: 0.5487 - val_loss: 1.1166 - val_accuracy: 0.5859\n",
      "Epoch 41/100\n",
      " 6/64 [=>............................] - ETA: 1s - loss: 1.1920 - accuracy: 0.5182"
     ]
    },
    {
     "name": "stderr",
     "output_type": "stream",
     "text": [
      "/home/dheeraj37/miniconda3/envs/agc/lib/python3.11/site-packages/keras/src/engine/training.py:3000: UserWarning: You are saving your model as an HDF5 file via `model.save()`. This file format is considered legacy. We recommend using instead the native Keras format, e.g. `model.save('my_model.keras')`.\n",
      "  saving_api.save_model(\n"
     ]
    },
    {
     "name": "stdout",
     "output_type": "stream",
     "text": [
      "64/64 [==============================] - 2s 25ms/step - loss: 1.1920 - accuracy: 0.5362 - val_loss: 1.0916 - val_accuracy: 0.6065\n",
      "Epoch 42/100\n",
      " 7/64 [==>...........................] - ETA: 1s - loss: 1.1579 - accuracy: 0.5491"
     ]
    },
    {
     "name": "stderr",
     "output_type": "stream",
     "text": [
      "/home/dheeraj37/miniconda3/envs/agc/lib/python3.11/site-packages/keras/src/engine/training.py:3000: UserWarning: You are saving your model as an HDF5 file via `model.save()`. This file format is considered legacy. We recommend using instead the native Keras format, e.g. `model.save('my_model.keras')`.\n",
      "  saving_api.save_model(\n"
     ]
    },
    {
     "name": "stdout",
     "output_type": "stream",
     "text": [
      "64/64 [==============================] - 2s 26ms/step - loss: 1.1745 - accuracy: 0.5593 - val_loss: 1.0961 - val_accuracy: 0.5918\n",
      "Epoch 43/100\n",
      "64/64 [==============================] - 2s 25ms/step - loss: 1.1827 - accuracy: 0.5602 - val_loss: 1.0920 - val_accuracy: 0.5898\n",
      "Epoch 44/100\n",
      "64/64 [==============================] - 2s 25ms/step - loss: 1.1755 - accuracy: 0.5519 - val_loss: 1.0915 - val_accuracy: 0.6094\n",
      "Epoch 45/100\n",
      " 7/64 [==>...........................] - ETA: 1s - loss: 1.1412 - accuracy: 0.5692"
     ]
    },
    {
     "name": "stderr",
     "output_type": "stream",
     "text": [
      "/home/dheeraj37/miniconda3/envs/agc/lib/python3.11/site-packages/keras/src/engine/training.py:3000: UserWarning: You are saving your model as an HDF5 file via `model.save()`. This file format is considered legacy. We recommend using instead the native Keras format, e.g. `model.save('my_model.keras')`.\n",
      "  saving_api.save_model(\n"
     ]
    },
    {
     "name": "stdout",
     "output_type": "stream",
     "text": [
      "64/64 [==============================] - 2s 26ms/step - loss: 1.1657 - accuracy: 0.5661 - val_loss: 1.0913 - val_accuracy: 0.6006\n",
      "Epoch 46/100\n",
      " 4/64 [>.............................] - ETA: 1s - loss: 1.1137 - accuracy: 0.5859"
     ]
    },
    {
     "name": "stderr",
     "output_type": "stream",
     "text": [
      "/home/dheeraj37/miniconda3/envs/agc/lib/python3.11/site-packages/keras/src/engine/training.py:3000: UserWarning: You are saving your model as an HDF5 file via `model.save()`. This file format is considered legacy. We recommend using instead the native Keras format, e.g. `model.save('my_model.keras')`.\n",
      "  saving_api.save_model(\n"
     ]
    },
    {
     "name": "stdout",
     "output_type": "stream",
     "text": [
      "64/64 [==============================] - 2s 26ms/step - loss: 1.1617 - accuracy: 0.5566 - val_loss: 1.0860 - val_accuracy: 0.6114\n",
      "Epoch 47/100\n",
      " 7/64 [==>...........................] - ETA: 1s - loss: 1.2466 - accuracy: 0.5379"
     ]
    },
    {
     "name": "stderr",
     "output_type": "stream",
     "text": [
      "/home/dheeraj37/miniconda3/envs/agc/lib/python3.11/site-packages/keras/src/engine/training.py:3000: UserWarning: You are saving your model as an HDF5 file via `model.save()`. This file format is considered legacy. We recommend using instead the native Keras format, e.g. `model.save('my_model.keras')`.\n",
      "  saving_api.save_model(\n"
     ]
    },
    {
     "name": "stdout",
     "output_type": "stream",
     "text": [
      "64/64 [==============================] - 2s 25ms/step - loss: 1.1643 - accuracy: 0.5718 - val_loss: 1.1066 - val_accuracy: 0.6035\n",
      "Epoch 48/100\n",
      "64/64 [==============================] - 2s 26ms/step - loss: 1.1303 - accuracy: 0.5909 - val_loss: 1.0809 - val_accuracy: 0.6114\n",
      "Epoch 49/100\n",
      " 7/64 [==>...........................] - ETA: 1s - loss: 1.1952 - accuracy: 0.5469"
     ]
    },
    {
     "name": "stderr",
     "output_type": "stream",
     "text": [
      "/home/dheeraj37/miniconda3/envs/agc/lib/python3.11/site-packages/keras/src/engine/training.py:3000: UserWarning: You are saving your model as an HDF5 file via `model.save()`. This file format is considered legacy. We recommend using instead the native Keras format, e.g. `model.save('my_model.keras')`.\n",
      "  saving_api.save_model(\n"
     ]
    },
    {
     "name": "stdout",
     "output_type": "stream",
     "text": [
      "64/64 [==============================] - 2s 26ms/step - loss: 1.1426 - accuracy: 0.5794 - val_loss: 1.0766 - val_accuracy: 0.6133\n",
      "Epoch 50/100\n",
      " 7/64 [==>...........................] - ETA: 1s - loss: 1.0696 - accuracy: 0.6183"
     ]
    },
    {
     "name": "stderr",
     "output_type": "stream",
     "text": [
      "/home/dheeraj37/miniconda3/envs/agc/lib/python3.11/site-packages/keras/src/engine/training.py:3000: UserWarning: You are saving your model as an HDF5 file via `model.save()`. This file format is considered legacy. We recommend using instead the native Keras format, e.g. `model.save('my_model.keras')`.\n",
      "  saving_api.save_model(\n"
     ]
    },
    {
     "name": "stdout",
     "output_type": "stream",
     "text": [
      "64/64 [==============================] - 2s 26ms/step - loss: 1.1122 - accuracy: 0.5887 - val_loss: 1.0670 - val_accuracy: 0.6192\n",
      "Epoch 51/100\n",
      " 6/64 [=>............................] - ETA: 1s - loss: 1.2270 - accuracy: 0.5208"
     ]
    },
    {
     "name": "stderr",
     "output_type": "stream",
     "text": [
      "/home/dheeraj37/miniconda3/envs/agc/lib/python3.11/site-packages/keras/src/engine/training.py:3000: UserWarning: You are saving your model as an HDF5 file via `model.save()`. This file format is considered legacy. We recommend using instead the native Keras format, e.g. `model.save('my_model.keras')`.\n",
      "  saving_api.save_model(\n"
     ]
    },
    {
     "name": "stdout",
     "output_type": "stream",
     "text": [
      "64/64 [==============================] - 2s 26ms/step - loss: 1.1067 - accuracy: 0.5828 - val_loss: 1.0628 - val_accuracy: 0.6104\n",
      "Epoch 52/100\n",
      " 7/64 [==>...........................] - ETA: 1s - loss: 1.0169 - accuracy: 0.6362"
     ]
    },
    {
     "name": "stderr",
     "output_type": "stream",
     "text": [
      "/home/dheeraj37/miniconda3/envs/agc/lib/python3.11/site-packages/keras/src/engine/training.py:3000: UserWarning: You are saving your model as an HDF5 file via `model.save()`. This file format is considered legacy. We recommend using instead the native Keras format, e.g. `model.save('my_model.keras')`.\n",
      "  saving_api.save_model(\n"
     ]
    },
    {
     "name": "stdout",
     "output_type": "stream",
     "text": [
      "64/64 [==============================] - 2s 26ms/step - loss: 1.0947 - accuracy: 0.5985 - val_loss: 1.0732 - val_accuracy: 0.6202\n",
      "Epoch 53/100\n",
      "64/64 [==============================] - 2s 26ms/step - loss: 1.0971 - accuracy: 0.5936 - val_loss: 1.0578 - val_accuracy: 0.6281\n",
      "Epoch 54/100\n",
      " 6/64 [=>............................] - ETA: 1s - loss: 1.0837 - accuracy: 0.5911"
     ]
    },
    {
     "name": "stderr",
     "output_type": "stream",
     "text": [
      "/home/dheeraj37/miniconda3/envs/agc/lib/python3.11/site-packages/keras/src/engine/training.py:3000: UserWarning: You are saving your model as an HDF5 file via `model.save()`. This file format is considered legacy. We recommend using instead the native Keras format, e.g. `model.save('my_model.keras')`.\n",
      "  saving_api.save_model(\n"
     ]
    },
    {
     "name": "stdout",
     "output_type": "stream",
     "text": [
      "64/64 [==============================] - 2s 26ms/step - loss: 1.0749 - accuracy: 0.5956 - val_loss: 1.0633 - val_accuracy: 0.6183\n",
      "Epoch 55/100\n",
      "64/64 [==============================] - 2s 26ms/step - loss: 1.0787 - accuracy: 0.6029 - val_loss: 1.0532 - val_accuracy: 0.6143\n",
      "Epoch 56/100\n",
      " 6/64 [=>............................] - ETA: 1s - loss: 1.0595 - accuracy: 0.5990"
     ]
    },
    {
     "name": "stderr",
     "output_type": "stream",
     "text": [
      "/home/dheeraj37/miniconda3/envs/agc/lib/python3.11/site-packages/keras/src/engine/training.py:3000: UserWarning: You are saving your model as an HDF5 file via `model.save()`. This file format is considered legacy. We recommend using instead the native Keras format, e.g. `model.save('my_model.keras')`.\n",
      "  saving_api.save_model(\n"
     ]
    },
    {
     "name": "stdout",
     "output_type": "stream",
     "text": [
      "64/64 [==============================] - 2s 26ms/step - loss: 1.0798 - accuracy: 0.5983 - val_loss: 1.0420 - val_accuracy: 0.6232\n",
      "Epoch 57/100\n",
      " 7/64 [==>...........................] - ETA: 1s - loss: 1.0359 - accuracy: 0.6138"
     ]
    },
    {
     "name": "stderr",
     "output_type": "stream",
     "text": [
      "/home/dheeraj37/miniconda3/envs/agc/lib/python3.11/site-packages/keras/src/engine/training.py:3000: UserWarning: You are saving your model as an HDF5 file via `model.save()`. This file format is considered legacy. We recommend using instead the native Keras format, e.g. `model.save('my_model.keras')`.\n",
      "  saving_api.save_model(\n"
     ]
    },
    {
     "name": "stdout",
     "output_type": "stream",
     "text": [
      "64/64 [==============================] - 2s 26ms/step - loss: 1.0594 - accuracy: 0.6052 - val_loss: 1.0499 - val_accuracy: 0.6281\n",
      "Epoch 58/100\n",
      "64/64 [==============================] - 2s 25ms/step - loss: 1.0626 - accuracy: 0.6007 - val_loss: 1.0614 - val_accuracy: 0.6320\n",
      "Epoch 59/100\n",
      "64/64 [==============================] - 2s 26ms/step - loss: 1.0436 - accuracy: 0.6066 - val_loss: 1.0483 - val_accuracy: 0.6389\n",
      "Epoch 60/100\n",
      "64/64 [==============================] - 2s 26ms/step - loss: 1.0436 - accuracy: 0.6125 - val_loss: 1.0340 - val_accuracy: 0.6477\n",
      "Epoch 61/100\n",
      " 7/64 [==>...........................] - ETA: 1s - loss: 1.1025 - accuracy: 0.5580"
     ]
    },
    {
     "name": "stderr",
     "output_type": "stream",
     "text": [
      "/home/dheeraj37/miniconda3/envs/agc/lib/python3.11/site-packages/keras/src/engine/training.py:3000: UserWarning: You are saving your model as an HDF5 file via `model.save()`. This file format is considered legacy. We recommend using instead the native Keras format, e.g. `model.save('my_model.keras')`.\n",
      "  saving_api.save_model(\n"
     ]
    },
    {
     "name": "stdout",
     "output_type": "stream",
     "text": [
      "64/64 [==============================] - 2s 26ms/step - loss: 1.0297 - accuracy: 0.6155 - val_loss: 1.0433 - val_accuracy: 0.6369\n",
      "Epoch 62/100\n",
      "64/64 [==============================] - 2s 26ms/step - loss: 1.0461 - accuracy: 0.6049 - val_loss: 1.0319 - val_accuracy: 0.6349\n",
      "Epoch 63/100\n",
      " 7/64 [==>...........................] - ETA: 1s - loss: 0.9832 - accuracy: 0.6250"
     ]
    },
    {
     "name": "stderr",
     "output_type": "stream",
     "text": [
      "/home/dheeraj37/miniconda3/envs/agc/lib/python3.11/site-packages/keras/src/engine/training.py:3000: UserWarning: You are saving your model as an HDF5 file via `model.save()`. This file format is considered legacy. We recommend using instead the native Keras format, e.g. `model.save('my_model.keras')`.\n",
      "  saving_api.save_model(\n"
     ]
    },
    {
     "name": "stdout",
     "output_type": "stream",
     "text": [
      "64/64 [==============================] - 2s 26ms/step - loss: 1.0207 - accuracy: 0.6194 - val_loss: 1.0504 - val_accuracy: 0.6281\n",
      "Epoch 64/100\n",
      "64/64 [==============================] - 2s 26ms/step - loss: 1.0207 - accuracy: 0.6172 - val_loss: 1.0268 - val_accuracy: 0.6359\n",
      "Epoch 65/100\n",
      " 7/64 [==>...........................] - ETA: 1s - loss: 1.0302 - accuracy: 0.6339"
     ]
    },
    {
     "name": "stderr",
     "output_type": "stream",
     "text": [
      "/home/dheeraj37/miniconda3/envs/agc/lib/python3.11/site-packages/keras/src/engine/training.py:3000: UserWarning: You are saving your model as an HDF5 file via `model.save()`. This file format is considered legacy. We recommend using instead the native Keras format, e.g. `model.save('my_model.keras')`.\n",
      "  saving_api.save_model(\n"
     ]
    },
    {
     "name": "stdout",
     "output_type": "stream",
     "text": [
      "64/64 [==============================] - 2s 26ms/step - loss: 0.9925 - accuracy: 0.6297 - val_loss: 1.0275 - val_accuracy: 0.6418\n",
      "Epoch 66/100\n",
      "64/64 [==============================] - 2s 25ms/step - loss: 0.9948 - accuracy: 0.6366 - val_loss: 1.0270 - val_accuracy: 0.6222\n",
      "Epoch 67/100\n",
      "64/64 [==============================] - 2s 26ms/step - loss: 0.9986 - accuracy: 0.6334 - val_loss: 1.0259 - val_accuracy: 0.6349\n",
      "Epoch 68/100\n",
      " 7/64 [==>...........................] - ETA: 1s - loss: 0.9505 - accuracy: 0.6719"
     ]
    },
    {
     "name": "stderr",
     "output_type": "stream",
     "text": [
      "/home/dheeraj37/miniconda3/envs/agc/lib/python3.11/site-packages/keras/src/engine/training.py:3000: UserWarning: You are saving your model as an HDF5 file via `model.save()`. This file format is considered legacy. We recommend using instead the native Keras format, e.g. `model.save('my_model.keras')`.\n",
      "  saving_api.save_model(\n"
     ]
    },
    {
     "name": "stdout",
     "output_type": "stream",
     "text": [
      "64/64 [==============================] - 2s 26ms/step - loss: 0.9654 - accuracy: 0.6412 - val_loss: 1.0245 - val_accuracy: 0.6398\n",
      "Epoch 69/100\n",
      " 6/64 [=>............................] - ETA: 1s - loss: 1.0051 - accuracy: 0.6224"
     ]
    },
    {
     "name": "stderr",
     "output_type": "stream",
     "text": [
      "/home/dheeraj37/miniconda3/envs/agc/lib/python3.11/site-packages/keras/src/engine/training.py:3000: UserWarning: You are saving your model as an HDF5 file via `model.save()`. This file format is considered legacy. We recommend using instead the native Keras format, e.g. `model.save('my_model.keras')`.\n",
      "  saving_api.save_model(\n"
     ]
    },
    {
     "name": "stdout",
     "output_type": "stream",
     "text": [
      "64/64 [==============================] - 2s 25ms/step - loss: 0.9667 - accuracy: 0.6476 - val_loss: 1.0358 - val_accuracy: 0.6408\n",
      "Epoch 70/100\n",
      "64/64 [==============================] - 2s 26ms/step - loss: 0.9734 - accuracy: 0.6449 - val_loss: 1.0227 - val_accuracy: 0.6340\n",
      "Epoch 71/100\n",
      " 7/64 [==>...........................] - ETA: 1s - loss: 0.9166 - accuracy: 0.6696"
     ]
    },
    {
     "name": "stderr",
     "output_type": "stream",
     "text": [
      "/home/dheeraj37/miniconda3/envs/agc/lib/python3.11/site-packages/keras/src/engine/training.py:3000: UserWarning: You are saving your model as an HDF5 file via `model.save()`. This file format is considered legacy. We recommend using instead the native Keras format, e.g. `model.save('my_model.keras')`.\n",
      "  saving_api.save_model(\n"
     ]
    },
    {
     "name": "stdout",
     "output_type": "stream",
     "text": [
      "64/64 [==============================] - 2s 26ms/step - loss: 0.9394 - accuracy: 0.6501 - val_loss: 1.0171 - val_accuracy: 0.6457\n",
      "Epoch 72/100\n",
      " 7/64 [==>...........................] - ETA: 1s - loss: 1.0181 - accuracy: 0.6205"
     ]
    },
    {
     "name": "stderr",
     "output_type": "stream",
     "text": [
      "/home/dheeraj37/miniconda3/envs/agc/lib/python3.11/site-packages/keras/src/engine/training.py:3000: UserWarning: You are saving your model as an HDF5 file via `model.save()`. This file format is considered legacy. We recommend using instead the native Keras format, e.g. `model.save('my_model.keras')`.\n",
      "  saving_api.save_model(\n"
     ]
    },
    {
     "name": "stdout",
     "output_type": "stream",
     "text": [
      "64/64 [==============================] - 2s 25ms/step - loss: 0.9447 - accuracy: 0.6466 - val_loss: 1.0066 - val_accuracy: 0.6516\n",
      "Epoch 73/100\n",
      " 7/64 [==>...........................] - ETA: 1s - loss: 0.9582 - accuracy: 0.6205"
     ]
    },
    {
     "name": "stderr",
     "output_type": "stream",
     "text": [
      "/home/dheeraj37/miniconda3/envs/agc/lib/python3.11/site-packages/keras/src/engine/training.py:3000: UserWarning: You are saving your model as an HDF5 file via `model.save()`. This file format is considered legacy. We recommend using instead the native Keras format, e.g. `model.save('my_model.keras')`.\n",
      "  saving_api.save_model(\n"
     ]
    },
    {
     "name": "stdout",
     "output_type": "stream",
     "text": [
      "64/64 [==============================] - 2s 26ms/step - loss: 0.9347 - accuracy: 0.6471 - val_loss: 1.0370 - val_accuracy: 0.6359\n",
      "Epoch 74/100\n",
      "64/64 [==============================] - 2s 26ms/step - loss: 0.9398 - accuracy: 0.6491 - val_loss: 1.0091 - val_accuracy: 0.6546\n",
      "Epoch 75/100\n",
      "64/64 [==============================] - 2s 26ms/step - loss: 0.9100 - accuracy: 0.6648 - val_loss: 1.0421 - val_accuracy: 0.6251\n",
      "Epoch 76/100\n",
      "64/64 [==============================] - 2s 25ms/step - loss: 0.9186 - accuracy: 0.6596 - val_loss: 1.0150 - val_accuracy: 0.6497\n",
      "Epoch 77/100\n",
      "64/64 [==============================] - 2s 26ms/step - loss: 0.8956 - accuracy: 0.6712 - val_loss: 1.0278 - val_accuracy: 0.6467\n",
      "Epoch 78/100\n",
      "64/64 [==============================] - 2s 25ms/step - loss: 0.8995 - accuracy: 0.6623 - val_loss: 1.0217 - val_accuracy: 0.6506\n",
      "Epoch 79/100\n",
      "64/64 [==============================] - 2s 25ms/step - loss: 0.8943 - accuracy: 0.6734 - val_loss: 1.0260 - val_accuracy: 0.6506\n",
      "Epoch 80/100\n",
      "64/64 [==============================] - 2s 25ms/step - loss: 0.8761 - accuracy: 0.6812 - val_loss: 1.0397 - val_accuracy: 0.6457\n",
      "Epoch 81/100\n",
      "64/64 [==============================] - 2s 26ms/step - loss: 0.8704 - accuracy: 0.6751 - val_loss: 1.0336 - val_accuracy: 0.6487\n",
      "Epoch 82/100\n",
      "64/64 [==============================] - 2s 25ms/step - loss: 0.8622 - accuracy: 0.6800 - val_loss: 1.0208 - val_accuracy: 0.6644\n",
      "Epoch 83/100\n",
      "64/64 [==============================] - 2s 25ms/step - loss: 0.8577 - accuracy: 0.6790 - val_loss: 1.0216 - val_accuracy: 0.6467\n",
      "Epoch 84/100\n",
      "64/64 [==============================] - 2s 25ms/step - loss: 0.8436 - accuracy: 0.6839 - val_loss: 1.0139 - val_accuracy: 0.6555\n",
      "Epoch 85/100\n",
      "64/64 [==============================] - 2s 25ms/step - loss: 0.8484 - accuracy: 0.6908 - val_loss: 1.0137 - val_accuracy: 0.6585\n",
      "Epoch 86/100\n",
      "64/64 [==============================] - 2s 25ms/step - loss: 0.8339 - accuracy: 0.6928 - val_loss: 1.0232 - val_accuracy: 0.6546\n",
      "Epoch 87/100\n",
      "64/64 [==============================] - 2s 25ms/step - loss: 0.8236 - accuracy: 0.6891 - val_loss: 1.0122 - val_accuracy: 0.6624\n",
      "Epoch 88/100\n",
      "64/64 [==============================] - 2s 25ms/step - loss: 0.8318 - accuracy: 0.6987 - val_loss: 1.0166 - val_accuracy: 0.6614\n",
      "Epoch 89/100\n",
      "64/64 [==============================] - 2s 25ms/step - loss: 0.8140 - accuracy: 0.6960 - val_loss: 1.0484 - val_accuracy: 0.6565\n",
      "Epoch 90/100\n",
      "64/64 [==============================] - 2s 25ms/step - loss: 0.8131 - accuracy: 0.7001 - val_loss: 1.0113 - val_accuracy: 0.6673\n",
      "Epoch 91/100\n",
      "64/64 [==============================] - 2s 25ms/step - loss: 0.7981 - accuracy: 0.7016 - val_loss: 1.0279 - val_accuracy: 0.6624\n",
      "Epoch 92/100\n",
      "64/64 [==============================] - 2s 25ms/step - loss: 0.7780 - accuracy: 0.7173 - val_loss: 1.0154 - val_accuracy: 0.6683\n",
      "Epoch 93/100\n",
      "64/64 [==============================] - 2s 26ms/step - loss: 0.7851 - accuracy: 0.7070 - val_loss: 1.0115 - val_accuracy: 0.6516\n",
      "Epoch 94/100\n",
      "64/64 [==============================] - 2s 25ms/step - loss: 0.7753 - accuracy: 0.7099 - val_loss: 1.0149 - val_accuracy: 0.6624\n",
      "Epoch 95/100\n",
      "64/64 [==============================] - 2s 26ms/step - loss: 0.7671 - accuracy: 0.7180 - val_loss: 1.0228 - val_accuracy: 0.6683\n",
      "Epoch 96/100\n",
      "64/64 [==============================] - 2s 25ms/step - loss: 0.7873 - accuracy: 0.7016 - val_loss: 1.0188 - val_accuracy: 0.6732\n",
      "Epoch 97/100\n",
      "64/64 [==============================] - 2s 25ms/step - loss: 0.7582 - accuracy: 0.7205 - val_loss: 1.0167 - val_accuracy: 0.6742\n",
      "Epoch 98/100\n",
      "64/64 [==============================] - 2s 26ms/step - loss: 0.7707 - accuracy: 0.7202 - val_loss: 1.0226 - val_accuracy: 0.6605\n",
      "Epoch 99/100\n",
      "64/64 [==============================] - 2s 26ms/step - loss: 0.7632 - accuracy: 0.7261 - val_loss: 1.0339 - val_accuracy: 0.6624\n",
      "Epoch 100/100\n",
      "64/64 [==============================] - 2s 25ms/step - loss: 0.7386 - accuracy: 0.7252 - val_loss: 1.0092 - val_accuracy: 0.6673\n"
     ]
    },
    {
     "name": "stderr",
     "output_type": "stream",
     "text": [
      "/home/dheeraj37/miniconda3/envs/agc/lib/python3.11/site-packages/keras/src/engine/training.py:3000: UserWarning: You are saving your model as an HDF5 file via `model.save()`. This file format is considered legacy. We recommend using instead the native Keras format, e.g. `model.save('my_model.keras')`.\n",
      "  saving_api.save_model(\n"
     ]
    }
   ],
   "source": [
    "try:\n",
    "    config = ConfigurationManager()\n",
    "    prepare_callbacks_config = config.get_prepare_callback_config()\n",
    "    prepare_callbacks = PrepareCallback(config=prepare_callbacks_config)\n",
    "    callback_list = prepare_callbacks.get_tb_ckpt_callbacks()\n",
    "\n",
    "    training_config = config.get_training_config()\n",
    "    training = Training(config=training_config)\n",
    "    training.get_model()\n",
    "    training.get_datasets()\n",
    "    #training.train_valid_generator()\n",
    "    training.train(\n",
    "        callback_list=callback_list\n",
    "    )\n",
    "    \n",
    "except Exception as e:\n",
    "    raise e"
   ]
  },
  {
   "cell_type": "code",
   "execution_count": null,
   "metadata": {},
   "outputs": [],
   "source": []
  },
  {
   "cell_type": "code",
   "execution_count": null,
   "metadata": {},
   "outputs": [],
   "source": []
  },
  {
   "cell_type": "code",
   "execution_count": null,
   "metadata": {},
   "outputs": [],
   "source": []
  },
  {
   "cell_type": "code",
   "execution_count": null,
   "metadata": {},
   "outputs": [],
   "source": []
  },
  {
   "cell_type": "code",
   "execution_count": null,
   "metadata": {},
   "outputs": [],
   "source": [
    "def train_valid_generator(self): \n",
    "\n",
    "        datagenerator_kwargs = dict(\n",
    "            rescale = 1./255,\n",
    "            validation_split=0.20\n",
    "        )\n",
    "\n",
    "        dataflow_kwargs = dict(\n",
    "            target_size=self.config.params_image_size[:-1],\n",
    "            batch_size=self.config.params_batch_size,\n",
    "            interpolation=\"bilinear\"\n",
    "        )\n",
    "\n",
    "        valid_datagenerator = tf.keras.preprocessing.image.ImageDataGenerator(\n",
    "            **datagenerator_kwargs\n",
    "        )\n",
    "\n",
    "        self.valid_generator = valid_datagenerator.flow_from_directory(\n",
    "            directory=self.config.training_data,\n",
    "            subset=\"validation\",\n",
    "            shuffle=False,\n",
    "            **dataflow_kwargs\n",
    "        )\n",
    "\n",
    "        if self.config.params_is_augmentation:\n",
    "            train_datagenerator = tf.keras.preprocessing.image.ImageDataGenerator(\n",
    "                rotation_range=40,\n",
    "                horizontal_flip=True,\n",
    "                width_shift_range=0.2,\n",
    "                height_shift_range=0.2,\n",
    "                shear_range=0.2,\n",
    "                zoom_range=0.2,\n",
    "                **datagenerator_kwargs\n",
    "            )\n",
    "        else:\n",
    "            train_datagenerator = valid_datagenerator\n",
    "\n",
    "        self.train_generator = train_datagenerator.flow_from_directory(\n",
    "            directory=self.config.training_data,\n",
    "            subset=\"training\",\n",
    "            shuffle=True,\n",
    "            **dataflow_kwargs\n",
    "        )"
   ]
  }
 ],
 "metadata": {
  "kernelspec": {
   "display_name": "agc",
   "language": "python",
   "name": "python3"
  },
  "language_info": {
   "codemirror_mode": {
    "name": "ipython",
    "version": 3
   },
   "file_extension": ".py",
   "mimetype": "text/x-python",
   "name": "python",
   "nbconvert_exporter": "python",
   "pygments_lexer": "ipython3",
   "version": "3.11.5"
  },
  "orig_nbformat": 4
 },
 "nbformat": 4,
 "nbformat_minor": 2
}
