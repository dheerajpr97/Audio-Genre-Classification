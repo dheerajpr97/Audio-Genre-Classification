{
 "cells": [
  {
   "cell_type": "code",
   "execution_count": 1,
   "metadata": {},
   "outputs": [
    {
     "data": {
      "text/plain": [
       "'/home/dheeraj37/Projects/Audio-Genre-Classification-1'"
      ]
     },
     "execution_count": 1,
     "metadata": {},
     "output_type": "execute_result"
    }
   ],
   "source": [
    "import os\n",
    "os.chdir('../')\n",
    "%pwd"
   ]
  },
  {
   "cell_type": "code",
   "execution_count": 2,
   "metadata": {},
   "outputs": [],
   "source": [
    "from dataclasses import dataclass\n",
    "from pathlib import Path\n",
    "\n",
    "\n",
    "@dataclass(frozen=True)\n",
    "class PrepareDataConfig:\n",
    "    root_dir: Path\n",
    "    source_dir: Path\n",
    "    target_dir: Path"
   ]
  },
  {
   "cell_type": "code",
   "execution_count": 3,
   "metadata": {},
   "outputs": [],
   "source": [
    "from cnnClassifier.constant import *\n",
    "from cnnClassifier.utils.common import read_yaml, create_directories"
   ]
  },
  {
   "cell_type": "code",
   "execution_count": 20,
   "metadata": {},
   "outputs": [],
   "source": [
    "class ConfigurationManager:\n",
    "    def __init__(\n",
    "        self,\n",
    "        config_filepath = CONFIG_PATH,\n",
    "        params_filepath = PARAMS_PATH):\n",
    "\n",
    "        self.config = read_yaml(config_filepath)\n",
    "        self.params = read_yaml(params_filepath)\n",
    "\n",
    "        create_directories([self.config.artifacts_root])\n",
    "\n",
    "\n",
    "    \n",
    "    def get_prepare_data_config(self) -> PrepareDataConfig:\n",
    "        config = self.config.prepare_data\n",
    "\n",
    "        create_directories([config.root_dir])\n",
    "\n",
    "        prepare_data_config = PrepareDataConfig(\n",
    "            root_dir=config.root_dir,\n",
    "            source_dir=config.source_dir,\n",
    "            target_dir=config.target_dir,\n",
    "        )\n",
    "\n",
    "        return prepare_data_config"
   ]
  },
  {
   "cell_type": "code",
   "execution_count": 35,
   "metadata": {},
   "outputs": [],
   "source": [
    "import os\n",
    "import pandas as pd\n",
    "import librosa\n",
    "import numpy as np\n",
    "import urllib.request as request\n",
    "import zipfile\n",
    "from cnnClassifier import logger"
   ]
  },
  {
   "cell_type": "code",
   "execution_count": 88,
   "metadata": {},
   "outputs": [],
   "source": [
    "class PrepareData:\n",
    "    def __init__(self, config: PrepareDataConfig):\n",
    "        self.config = config       \n",
    "        \n",
    "    def dataframe_create(self):\n",
    "        self.music_dataset = [] # File locations for each .wav file \n",
    "        self.genre_list = [] # Different Genres (or classes)\n",
    "        self.music_path = self.config.source_dir\n",
    "        \n",
    "        for root, dirs, files in os.walk(self.music_path):\n",
    "            for name in files:\n",
    "                filename = os.path.join(root, name)\n",
    "                self.music_dataset.append(filename)\n",
    "                self.genre_list.append(filename.split(\"/\")[3])\n",
    "            self.music_df = pd.DataFrame({\n",
    "            'file': self.music_dataset,\n",
    "            'genre': self.genre_list\n",
    "            })\n",
    "        return self.music_df   \n",
    "    \n",
    "    def mfcc_feature_extraction(self, df):\n",
    "        \n",
    "        self.X = []\n",
    "        self.y = []\n",
    "        self.y_cat = []\n",
    "        self.mfcc = []\n",
    "        self.mfcc_df = pd.DataFrame()\n",
    "\n",
    "        for index, row in df.iterrows():\n",
    "            signal, sr = librosa.load(row['file'], sr=22050)\n",
    "            if len(signal) > 661500:\n",
    "                signal = signal[0:661500]\n",
    "            else:\n",
    "                signal = np.pad(signal, (0, 661500 - signal.shape[0]), 'wrap')\n",
    "                \n",
    "            # Calculate the duration of each chunk\n",
    "            chunk_duration = 5  # seconds\n",
    "            # Calculate the number of samples in each chunk\n",
    "            chunk_samples = int(chunk_duration * sr)\n",
    "            # Calculate the total number of chunks\n",
    "            num_chunks = int(np.ceil(len(signal) / chunk_samples))\n",
    "            # Split the audio clip into chunks\n",
    "            num_chunks = int(np.ceil(len(signal) / chunk_samples))\n",
    "            audio_chunks = [signal[i*chunk_samples:(i+1)*chunk_samples] for i in range(num_chunks)]\n",
    "            for chunk in audio_chunks:\n",
    "                mfcc = librosa.feature.mfcc(y=chunk, n_fft=2048, hop_length=512, n_mfcc=13, sr=sr)\n",
    "                mfcc = np.array(mfcc.T) # Transpose the matrix to get the shape (n, 13)\n",
    "                \n",
    "                self.X.append(mfcc)\n",
    "                self.y.append(row['genre'])\n",
    "\n",
    "        self.mfcc_df['MFCC features'] = self.X\n",
    "        self.mfcc_df['genre'] = self.y\n",
    "        \n",
    "        return self.mfcc_df    \n",
    "\n",
    "    def save_data(self, df):\n",
    "        df.to_json(self.config.target_dir, index=False)\n",
    "        logger.info(f\"Data saved at {self.config.target_dir} in JSON format\")          \n",
    "        \n",
    "\n"
   ]
  },
  {
   "cell_type": "code",
   "execution_count": 89,
   "metadata": {},
   "outputs": [
    {
     "name": "stdout",
     "output_type": "stream",
     "text": [
      "[2023-09-23 19:59:51,848]: INFO: common: yaml file: config/config.yaml loaded successfully\n",
      "[2023-09-23 19:59:51,856]: INFO: common: yaml file: params.yaml loaded successfully\n",
      "[2023-09-23 19:59:51,857]: INFO: common: created directory at: artifacts\n",
      "[2023-09-23 19:59:51,857]: INFO: common: created directory at: artifacts/prepare_data\n",
      "[2023-09-23 20:00:55,066]: INFO: 228012998: Data saved at artifacts/prepare_data/mfcc_5sec_chunks.json in JSON format\n"
     ]
    }
   ],
   "source": [
    "try:\n",
    "    config = ConfigurationManager()\n",
    "    prepare_data_config = config.get_prepare_data_config()\n",
    "    prepare_data = PrepareData(config=prepare_data_config)\n",
    "    music_df = prepare_data.dataframe_create()\n",
    "    mfcc_df = prepare_data.mfcc_feature_extraction(music_df)\n",
    "    prepare_data.save_data(mfcc_df)\n",
    "\n",
    "except Exception as e:\n",
    "    raise e"
   ]
  },
  {
   "cell_type": "code",
   "execution_count": 90,
   "metadata": {},
   "outputs": [],
   "source": [
    "mfcc_df = pd.read_json(\"artifacts/prepare_data/mfcc_5sec_chunks.json\")"
   ]
  },
  {
   "cell_type": "code",
   "execution_count": null,
   "metadata": {},
   "outputs": [],
   "source": []
  }
 ],
 "metadata": {
  "kernelspec": {
   "display_name": "agc",
   "language": "python",
   "name": "python3"
  },
  "language_info": {
   "codemirror_mode": {
    "name": "ipython",
    "version": 3
   },
   "file_extension": ".py",
   "mimetype": "text/x-python",
   "name": "python",
   "nbconvert_exporter": "python",
   "pygments_lexer": "ipython3",
   "version": "3.11.5"
  },
  "orig_nbformat": 4
 },
 "nbformat": 4,
 "nbformat_minor": 2
}
