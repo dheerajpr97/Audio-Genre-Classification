{
 "cells": [
  {
   "cell_type": "code",
   "execution_count": 1,
   "metadata": {},
   "outputs": [
    {
     "data": {
      "text/plain": [
       "'/home/dheeraj37/Projects/Audio-Genre-Classification-1'"
      ]
     },
     "execution_count": 1,
     "metadata": {},
     "output_type": "execute_result"
    }
   ],
   "source": [
    "import os\n",
    "os.chdir('../')\n",
    "%pwd"
   ]
  },
  {
   "cell_type": "code",
   "execution_count": 2,
   "metadata": {},
   "outputs": [],
   "source": [
    "from dataclasses import dataclass\n",
    "from pathlib import Path\n",
    "\n",
    "\n",
    "@dataclass(frozen=True)\n",
    "class PrepareDataConfig:\n",
    "    root_dir: Path\n",
    "    source_dir: Path\n",
    "    target_dir: Path\n",
    "    train_data_path: Path\n",
    "    test_data_path: Path\n",
    "    val_data_path: Path"
   ]
  },
  {
   "cell_type": "code",
   "execution_count": 3,
   "metadata": {},
   "outputs": [],
   "source": [
    "from cnnClassifier.constant import *\n",
    "from cnnClassifier.utils.common import read_yaml, create_directories"
   ]
  },
  {
   "cell_type": "code",
   "execution_count": 4,
   "metadata": {},
   "outputs": [],
   "source": [
    "class ConfigurationManager:\n",
    "    def __init__(\n",
    "        self,\n",
    "        config_filepath = CONFIG_PATH,\n",
    "        params_filepath = PARAMS_PATH):\n",
    "\n",
    "        self.config = read_yaml(config_filepath)\n",
    "        self.params = read_yaml(params_filepath)\n",
    "\n",
    "        create_directories([self.config.artifacts_root])\n",
    "\n",
    "\n",
    "    \n",
    "    def get_prepare_data_config(self) -> PrepareDataConfig:\n",
    "        config = self.config.prepare_data\n",
    "\n",
    "        create_directories([config.root_dir])\n",
    "\n",
    "        prepare_data_config = PrepareDataConfig(\n",
    "            root_dir=config.root_dir,\n",
    "            source_dir=config.source_dir,\n",
    "            target_dir=config.target_dir,\n",
    "            train_data_path=config.train_data_path,\n",
    "            test_data_path=config.test_data_path,\n",
    "            val_data_path=config.val_data_path\n",
    "        )\n",
    "\n",
    "        return prepare_data_config"
   ]
  },
  {
   "cell_type": "code",
   "execution_count": 5,
   "metadata": {},
   "outputs": [],
   "source": [
    "import os\n",
    "import pandas as pd\n",
    "import librosa\n",
    "import numpy as np\n",
    "import urllib.request as request\n",
    "import zipfile\n",
    "from cnnClassifier import logger\n",
    "from sklearn.model_selection import train_test_split"
   ]
  },
  {
   "cell_type": "code",
   "execution_count": 6,
   "metadata": {},
   "outputs": [],
   "source": [
    "class PrepareData:\n",
    "    def __init__(self, config: PrepareDataConfig):\n",
    "        self.config = config       \n",
    "        \n",
    "    def dataframe_create(self):\n",
    "        self.music_dataset = [] # File locations for each .wav file \n",
    "        self.genre_list = [] # Different Genres (or classes)\n",
    "        self.music_path = self.config.source_dir\n",
    "        \n",
    "        for root, dirs, files in os.walk(self.music_path):\n",
    "            for name in files:\n",
    "                filename = os.path.join(root, name)\n",
    "                self.music_dataset.append(filename)\n",
    "                self.genre_list.append(filename.split(\"/\")[3])\n",
    "            self.music_df = pd.DataFrame({\n",
    "            'file': self.music_dataset,\n",
    "            'genre': self.genre_list\n",
    "            })\n",
    "        return self.music_df   \n",
    "    \n",
    "    def mfcc_feature_extraction(self, df):\n",
    "        \n",
    "        self.X = []\n",
    "        self.y = []\n",
    "        self.y_cat = []\n",
    "        self.mfcc = []\n",
    "        self.mfcc_df = pd.DataFrame()\n",
    "\n",
    "        for index, row in df.iterrows():\n",
    "            signal, sr = librosa.load(row['file'], sr=22050)\n",
    "            if len(signal) > 661500:\n",
    "                signal = signal[0:661500]\n",
    "            else:\n",
    "                signal = np.pad(signal, (0, 661500 - signal.shape[0]), 'wrap')\n",
    "                \n",
    "            # Calculate the duration of each chunk\n",
    "            chunk_duration = 5  # seconds\n",
    "            # Calculate the number of samples in each chunk\n",
    "            chunk_samples = int(chunk_duration * sr)\n",
    "            # Calculate the total number of chunks\n",
    "            num_chunks = int(np.ceil(len(signal) / chunk_samples))\n",
    "            # Split the audio clip into chunks\n",
    "            num_chunks = int(np.ceil(len(signal) / chunk_samples))\n",
    "            audio_chunks = [signal[i*chunk_samples:(i+1)*chunk_samples] for i in range(num_chunks)]\n",
    "            for chunk in audio_chunks:\n",
    "                mfcc = librosa.feature.mfcc(y=chunk, n_fft=2048, hop_length=512, n_mfcc=13, sr=sr)\n",
    "                mfcc = np.array(mfcc.T) # Transpose the matrix to get the shape (n, 13)\n",
    "                \n",
    "                self.X.append(mfcc)\n",
    "                self.y.append(row['genre'])\n",
    "\n",
    "        self.mfcc_df['MFCC features'] = self.X\n",
    "        self.mfcc_df['genre'] = self.y\n",
    "        \n",
    "        return self.mfcc_df    \n",
    "\n",
    "    def save_data(self, df):\n",
    "        df.to_json(self.config.target_dir, index=False)\n",
    "        logger.info(f\"Data saved at {self.config.target_dir} in JSON format\")          \n",
    "        \n",
    "    def train_val_test_split(self, df):\n",
    "        self.train_df, self.test_df = train_test_split(\n",
    "            df,\n",
    "            test_size=0.15,\n",
    "            random_state=42\n",
    "        )\n",
    "        self.train_df, self.val_df = train_test_split(\n",
    "            self.train_df,\n",
    "            test_size=0.2,\n",
    "            random_state=42\n",
    "        )\n",
    "        self.train_df = self.train_df.reset_index(drop=True)\n",
    "        self.val_df = self.val_df.reset_index(drop=True)\n",
    "        self.test_df = self.test_df.reset_index(drop=True)\n",
    "    \n",
    "        self.train_df.to_json(self.config.train_data_path)\n",
    "        self.val_df.to_json(self.config.val_data_path)\n",
    "        self.test_df.to_json(self.config.test_data_path)\n",
    "        logger.info(f\"Train, Val, and Test datasets saved at {self.config.target_dir} in JSON format\")        \n"
   ]
  },
  {
   "cell_type": "code",
   "execution_count": 7,
   "metadata": {},
   "outputs": [
    {
     "name": "stdout",
     "output_type": "stream",
     "text": [
      "[2023-09-23 22:47:38,590]: INFO: common: yaml file: config/config.yaml loaded successfully\n",
      "[2023-09-23 22:47:38,591]: INFO: common: yaml file: params.yaml loaded successfully\n",
      "[2023-09-23 22:47:38,591]: INFO: common: created directory at: artifacts\n",
      "[2023-09-23 22:47:38,591]: INFO: common: created directory at: artifacts/prepare_data\n",
      "[2023-09-23 22:48:42,241]: INFO: 2691001769: Data saved at artifacts/prepare_data/mfcc_5sec_chunks.json in JSON format\n"
     ]
    },
    {
     "ename": "AttributeError",
     "evalue": "'PrepareDataConfig' object has no attribute 'data_path'",
     "output_type": "error",
     "traceback": [
      "\u001b[0;31m---------------------------------------------------------------------------\u001b[0m",
      "\u001b[0;31mAttributeError\u001b[0m                            Traceback (most recent call last)",
      "\u001b[1;32m/home/dheeraj37/Projects/Audio-Genre-Classification-1/research/data_feature_extraction.ipynb Cell 7\u001b[0m line \u001b[0;36m1\n\u001b[1;32m      <a href='vscode-notebook-cell:/home/dheeraj37/Projects/Audio-Genre-Classification-1/research/data_feature_extraction.ipynb#W6sZmlsZQ%3D%3D?line=7'>8</a>\u001b[0m     prepare_data\u001b[39m.\u001b[39mtrain_val_test_split(mfcc_df)\n\u001b[1;32m     <a href='vscode-notebook-cell:/home/dheeraj37/Projects/Audio-Genre-Classification-1/research/data_feature_extraction.ipynb#W6sZmlsZQ%3D%3D?line=9'>10</a>\u001b[0m \u001b[39mexcept\u001b[39;00m \u001b[39mException\u001b[39;00m \u001b[39mas\u001b[39;00m e:\n\u001b[0;32m---> <a href='vscode-notebook-cell:/home/dheeraj37/Projects/Audio-Genre-Classification-1/research/data_feature_extraction.ipynb#W6sZmlsZQ%3D%3D?line=10'>11</a>\u001b[0m     \u001b[39mraise\u001b[39;00m e\n",
      "\u001b[1;32m/home/dheeraj37/Projects/Audio-Genre-Classification-1/research/data_feature_extraction.ipynb Cell 7\u001b[0m line \u001b[0;36m8\n\u001b[1;32m      <a href='vscode-notebook-cell:/home/dheeraj37/Projects/Audio-Genre-Classification-1/research/data_feature_extraction.ipynb#W6sZmlsZQ%3D%3D?line=5'>6</a>\u001b[0m     mfcc_df \u001b[39m=\u001b[39m prepare_data\u001b[39m.\u001b[39mmfcc_feature_extraction(music_df)\n\u001b[1;32m      <a href='vscode-notebook-cell:/home/dheeraj37/Projects/Audio-Genre-Classification-1/research/data_feature_extraction.ipynb#W6sZmlsZQ%3D%3D?line=6'>7</a>\u001b[0m     prepare_data\u001b[39m.\u001b[39msave_data(mfcc_df)\n\u001b[0;32m----> <a href='vscode-notebook-cell:/home/dheeraj37/Projects/Audio-Genre-Classification-1/research/data_feature_extraction.ipynb#W6sZmlsZQ%3D%3D?line=7'>8</a>\u001b[0m     prepare_data\u001b[39m.\u001b[39;49mtrain_val_test_split(mfcc_df)\n\u001b[1;32m     <a href='vscode-notebook-cell:/home/dheeraj37/Projects/Audio-Genre-Classification-1/research/data_feature_extraction.ipynb#W6sZmlsZQ%3D%3D?line=9'>10</a>\u001b[0m \u001b[39mexcept\u001b[39;00m \u001b[39mException\u001b[39;00m \u001b[39mas\u001b[39;00m e:\n\u001b[1;32m     <a href='vscode-notebook-cell:/home/dheeraj37/Projects/Audio-Genre-Classification-1/research/data_feature_extraction.ipynb#W6sZmlsZQ%3D%3D?line=10'>11</a>\u001b[0m     \u001b[39mraise\u001b[39;00m e\n",
      "\u001b[1;32m/home/dheeraj37/Projects/Audio-Genre-Classification-1/research/data_feature_extraction.ipynb Cell 7\u001b[0m line \u001b[0;36m7\n\u001b[1;32m     <a href='vscode-notebook-cell:/home/dheeraj37/Projects/Audio-Genre-Classification-1/research/data_feature_extraction.ipynb#W6sZmlsZQ%3D%3D?line=76'>77</a>\u001b[0m \u001b[39mself\u001b[39m\u001b[39m.\u001b[39mval_df\u001b[39m.\u001b[39mto_json(\u001b[39mself\u001b[39m\u001b[39m.\u001b[39mconfig\u001b[39m.\u001b[39mval_data_path)\n\u001b[1;32m     <a href='vscode-notebook-cell:/home/dheeraj37/Projects/Audio-Genre-Classification-1/research/data_feature_extraction.ipynb#W6sZmlsZQ%3D%3D?line=77'>78</a>\u001b[0m \u001b[39mself\u001b[39m\u001b[39m.\u001b[39mtest_df\u001b[39m.\u001b[39mto_json(\u001b[39mself\u001b[39m\u001b[39m.\u001b[39mconfig\u001b[39m.\u001b[39mtest_data_path)\n\u001b[0;32m---> <a href='vscode-notebook-cell:/home/dheeraj37/Projects/Audio-Genre-Classification-1/research/data_feature_extraction.ipynb#W6sZmlsZQ%3D%3D?line=78'>79</a>\u001b[0m logger\u001b[39m.\u001b[39minfo(\u001b[39mf\u001b[39m\u001b[39m\"\u001b[39m\u001b[39mTrain, Val, and Test datasets saved at \u001b[39m\u001b[39m{\u001b[39;00m\u001b[39mself\u001b[39;49m\u001b[39m.\u001b[39;49mconfig\u001b[39m.\u001b[39;49mdata_path\u001b[39m}\u001b[39;00m\u001b[39m in JSON format\u001b[39m\u001b[39m\"\u001b[39m)\n",
      "\u001b[0;31mAttributeError\u001b[0m: 'PrepareDataConfig' object has no attribute 'data_path'"
     ]
    }
   ],
   "source": [
    "try:\n",
    "    config = ConfigurationManager()\n",
    "    prepare_data_config = config.get_prepare_data_config()\n",
    "    prepare_data = PrepareData(config=prepare_data_config)\n",
    "    music_df = prepare_data.dataframe_create()\n",
    "    mfcc_df = prepare_data.mfcc_feature_extraction(music_df)\n",
    "    prepare_data.save_data(mfcc_df)\n",
    "    prepare_data.train_val_test_split(mfcc_df)\n",
    "\n",
    "except Exception as e:\n",
    "    raise e"
   ]
  },
  {
   "cell_type": "code",
   "execution_count": null,
   "metadata": {},
   "outputs": [],
   "source": [
    "mfcc_df = pd.read_json(\"artifacts/prepare_data/mfcc_5sec_chunks.json\")"
   ]
  },
  {
   "cell_type": "code",
   "execution_count": null,
   "metadata": {},
   "outputs": [],
   "source": [
    "prepare_data.train_val_test_split(mfcc_df)"
   ]
  },
  {
   "cell_type": "code",
   "execution_count": null,
   "metadata": {},
   "outputs": [],
   "source": []
  }
 ],
 "metadata": {
  "kernelspec": {
   "display_name": "agc",
   "language": "python",
   "name": "python3"
  },
  "language_info": {
   "codemirror_mode": {
    "name": "ipython",
    "version": 3
   },
   "file_extension": ".py",
   "mimetype": "text/x-python",
   "name": "python",
   "nbconvert_exporter": "python",
   "pygments_lexer": "ipython3",
   "version": "3.11.5"
  },
  "orig_nbformat": 4
 },
 "nbformat": 4,
 "nbformat_minor": 2
}
